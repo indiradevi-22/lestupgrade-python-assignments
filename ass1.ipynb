{
  "nbformat": 4,
  "nbformat_minor": 0,
  "metadata": {
    "colab": {
      "name": "Untitled1.ipynb",
      "provenance": []
    },
    "kernelspec": {
      "name": "python3",
      "display_name": "Python 3"
    }
  },
  "cells": [
    {
      "cell_type": "code",
      "metadata": {
        "id": "X3-TNxJuAe4v"
      },
      "source": [
        "#strings in python"
      ],
      "execution_count": 1,
      "outputs": []
    },
    {
      "cell_type": "code",
      "metadata": {
        "colab": {
          "base_uri": "https://localhost:8080/"
        },
        "id": "fzgNb6u-BJJ_",
        "outputId": "fd158146-b7c9-4e52-9efb-e36af9ba2c81"
      },
      "source": [
        "name= \"indiradevi\"\r\n",
        "print(name)"
      ],
      "execution_count": 6,
      "outputs": [
        {
          "output_type": "stream",
          "text": [
            "indiradevi\n"
          ],
          "name": "stdout"
        }
      ]
    },
    {
      "cell_type": "markdown",
      "metadata": {
        "id": "C7Z1afC4E8Ou"
      },
      "source": [
        "**slicling** a **string**"
      ]
    },
    {
      "cell_type": "code",
      "metadata": {
        "colab": {
          "base_uri": "https://localhost:8080/"
        },
        "id": "SWR62cxnDUiH",
        "outputId": "86a6f0f0-ebec-44eb-85bd-8561657fb17d"
      },
      "source": [
        "string1=\"letsupgrade\"\r\n",
        "string2=\"python class\"\r\n",
        "print(\"\\nprint slicing of 2nd and 9th characteres\")\r\n",
        "print(string1[2:9])"
      ],
      "execution_count": 7,
      "outputs": [
        {
          "output_type": "stream",
          "text": [
            "\n",
            "print slicing of 2nd and 9th characteres\n",
            "tsupgra\n"
          ],
          "name": "stdout"
        }
      ]
    },
    {
      "cell_type": "markdown",
      "metadata": {
        "id": "fZ5SjUAVFCuK"
      },
      "source": [
        "# **updating **a ***string***"
      ]
    },
    {
      "cell_type": "code",
      "metadata": {
        "colab": {
          "base_uri": "https://localhost:8080/"
        },
        "id": "t8osSvA7FQEx",
        "outputId": "a390f591-c48a-4767-e6af-3ba1fec7b5ab"
      },
      "source": [
        "string=\"indusatyam\"\r\n",
        "print(\"updating a string\")\r\n",
        "string=\"indira devi satyannarayana\"\r\n",
        "print(\"updated string is\")\r\n",
        "print(string)"
      ],
      "execution_count": 10,
      "outputs": [
        {
          "output_type": "stream",
          "text": [
            "updating a string\n",
            "updated string is\n",
            "string\n"
          ],
          "name": "stdout"
        }
      ]
    },
    {
      "cell_type": "markdown",
      "metadata": {
        "id": "fsKR6PXJGZUL"
      },
      "source": [
        "#lenght of a sring"
      ]
    },
    {
      "cell_type": "code",
      "metadata": {
        "colab": {
          "base_uri": "https://localhost:8080/"
        },
        "id": "tkA85IUpGtwx",
        "outputId": "ef145049-0bfa-4fa4-a1d4-3ff083ed91a0"
      },
      "source": [
        "string=\"letsupgrade\"\r\n",
        "\r\n",
        "print(len(string))"
      ],
      "execution_count": 16,
      "outputs": [
        {
          "output_type": "stream",
          "text": [
            "11\n"
          ],
          "name": "stdout"
        }
      ]
    },
    {
      "cell_type": "markdown",
      "metadata": {
        "id": "uTZ-s_nlIGjK"
      },
      "source": [
        "upper case"
      ]
    },
    {
      "cell_type": "code",
      "metadata": {
        "colab": {
          "base_uri": "https://localhost:8080/"
        },
        "id": "rx5yXIjCIIPp",
        "outputId": "d1952f9c-1eff-45a8-87c3-051b13ebf40d"
      },
      "source": [
        "a = \"Hello, World!\"\r\n",
        "print(a.lower())"
      ],
      "execution_count": 17,
      "outputs": [
        {
          "output_type": "stream",
          "text": [
            "hello, world!\n"
          ],
          "name": "stdout"
        }
      ]
    }
  ]
}